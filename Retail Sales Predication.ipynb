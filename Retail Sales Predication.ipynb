{
 "cells": [
  {
   "cell_type": "markdown",
   "metadata": {},
   "source": [
    "# **Project Name**    - Retail Sales Predication \n",
    "\n",
    "##### **Project Type**    - Regression\n",
    "##### **Contribution**    - Individual/Team\n",
    "##### **Team Member 1 -** Hariom Gupta ( Team Leader )\n",
    "##### **Team Member 2 -** Pallavi s\n",
    "##### **Team Member 3 -** Aditya Singh\n",
    "##### **Team Member 4 -** Vishwajeet Salunkhe\n",
    "##### **Team Member 5 -** Ritesh Verma\n",
    "\n"
   ]
  },
  {
   "cell_type": "markdown",
   "metadata": {},
   "source": [
    "# **Project Summary -**\n",
    "\n",
    "This Roseman Stores dataset is current as of right now. Upon analysing this issue, we find that Roseman problem is a regression issue, and our main objective is to forecast Roseman problem's sales figures. These are the topics we work on in this notebook:\n",
    "\n",
    "applying exploratory data analysis to the dataset analysis. Examine trends and seasonality in the Roseman dataset by using exponential moving averages. Utilising the subsequent prediction analysis, analyse regression analysis A. Analysis of Linear Regression B. Lasso and Ridge Regression, or Elastic Regression. Random Forest Regression (C). Xgboost and d.adaboost).\n",
    "\n",
    "Using the above algorithm, we find that Xgboost has an accuracy of 98%.\n"
   ]
  },
  {
   "cell_type": "markdown",
   "metadata": {},
   "source": [
    "# **Problem Statement**\n",
    "\n",
    "**Write Problem Statement Here.**\n",
    "\n",
    "Rossmann operates over 3,000 drug stores in 7 European countries. Currently, Rossmann store managers are tasked with predicting their daily sales for up to six weeks in advance. Store sales are influenced by many factors, including promotions, competition, school and state holidays, seasonality, and locality. With thousands of individual managers predicting sales based on their unique circumstances, the accuracy of results can be quite varied.\n",
    "You are provided with historical sales data for 1,115 Rossmann stores. The task is to forecast the \"Sales\" column for the test set. Note that some stores in the dataset were temporarily closed for refurbishment.\n"
   ]
  },
  {
   "cell_type": "markdown",
   "metadata": {},
   "source": [
    "# **Data Description**\n",
    "\n",
    "**Rossmann Stores Data.csv - historical data including Sales**\n",
    "\n",
    "**store.csv - supplemental information about the store**\n",
    "\n",
    "Data fields Most of the fields are self-explanatory. The following are descriptions for those that aren't.\n",
    "\n",
    "**Id** - an Id that represents a (Store, Date) duple within the test set\n",
    "\n",
    "**Store** - a unique Id for each store\n",
    "\n",
    "**Sales** - the turnover for any given day (this is what you are predicting)\n",
    "\n",
    "**Customers** - the number of customers on a given day\n",
    "\n",
    "**Open** - an indicator for whether the store was open: 0 = closed, 1 = open\n",
    "StateHoliday - indicates a state holiday. Normally all stores, with few exceptions, are closed on state holidays. Note that all schools are closed on public holidays and weekends. a = public holiday, b = Easter holiday, c = Christmas, 0 = None\n",
    "\n",
    "**SchoolHoliday** - indicates if the (Store, Date) was affected by the closure of public schools\n",
    "\n",
    "**StoreType** - differentiates between 4 different store models: a, b, c, d\n",
    "\n",
    "**Assortment** - describes an assortment level: a = basic, b = extra, c = extended\n",
    "\n",
    "**CompetitionDistance** - distance in meters to the nearest competitor store\n",
    "\n",
    "**CompetitionOpenSince[Month/Year]**- gives the approximate year and month of the time the nearest competitor was opened\n",
    "\n",
    "**Promo** - indicates whether a store is running a promo on that day\n",
    "\n",
    "**Promo2** - Promo2 is a continuing and consecutive promotion for some stores: 0 = store is not participating, 1 = store is participating\n",
    "\n",
    "**Promo2Since[Year/Week]** - describes the year and calendar week when the store started participating in Promo2\n",
    "\n",
    "**PromoInterval** - describes the consecutive intervals Promo2 is started, naming the months the promotion is started anew. E.g. \"Feb,May,Aug,Nov\" means each round starts in February, May, August, November of any given year for that store\n"
   ]
  },
  {
   "cell_type": "markdown",
   "metadata": {},
   "source": [
    "# ***Let's Begin !***\n",
    "### Import Libraries"
   ]
  },
  {
   "cell_type": "code",
   "execution_count": 4,
   "metadata": {},
   "outputs": [],
   "source": [
    "import numpy as np\n",
    "import pandas as pd\n",
    "import matplotlib.pyplot as plt \n",
    "%matplotlib inline\n",
    "from datetime import datetime\n",
    "import seaborn as sns\n",
    "import plotly.express as px\n",
    "import ast\n",
    "import math\n",
    "import random\n",
    "from scipy.stats import skew \n",
    "from statsmodels.stats.outliers_influence import variance_inflation_factor\n",
    "from sklearn.preprocessing import OneHotEncoder\n",
    "from sklearn.model_selection import train_test_split\n",
    "from sklearn.preprocessing import StandardScaler\n",
    "from sklearn.pipeline import  Pipeline\n",
    "from sklearn.model_selection import GridSearchCV\n",
    "from sklearn.model_selection import RandomizedSearchCV\n",
    "from sklearn.linear_model import LinearRegression, Ridge, Lasso, ElasticNet\n",
    "from sklearn.tree import DecisionTreeRegressor\n",
    "from sklearn.ensemble import RandomForestRegressor\n",
    "import xgboost as xgb\n",
    "from sklearn.metrics import r2_score\n",
    "from sklearn.metrics import mean_squared_error\n",
    "import pickle\n"
   ]
  }
 ],
 "metadata": {
  "kernelspec": {
   "display_name": "Python 3",
   "language": "python",
   "name": "python3"
  },
  "language_info": {
   "codemirror_mode": {
    "name": "ipython",
    "version": 3
   },
   "file_extension": ".py",
   "mimetype": "text/x-python",
   "name": "python",
   "nbconvert_exporter": "python",
   "pygments_lexer": "ipython3",
   "version": "3.9.6"
  }
 },
 "nbformat": 4,
 "nbformat_minor": 2
}
